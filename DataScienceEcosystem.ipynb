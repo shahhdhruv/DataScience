{
  "nbformat": 4,
  "nbformat_minor": 0,
  "metadata": {
    "colab": {
      "provenance": [],
      "toc_visible": true,
      "collapsed_sections": [
        "UdYXNSwi4yd6"
      ],
      "authorship_tag": "ABX9TyNe8Ic5BfMxKQgw9/DW37uc",
      "include_colab_link": true
    },
    "kernelspec": {
      "name": "python3",
      "display_name": "Python 3"
    },
    "language_info": {
      "name": "python"
    }
  },
  "cells": [
    {
      "cell_type": "markdown",
      "metadata": {
        "id": "view-in-github",
        "colab_type": "text"
      },
      "source": [
        "<a href=\"https://colab.research.google.com/github/dhruv602/assignment/blob/main/DataScienceEcosystem.ipynb\" target=\"_parent\"><img src=\"https://colab.research.google.com/assets/colab-badge.svg\" alt=\"Open In Colab\"/></a>"
      ]
    },
    {
      "cell_type": "markdown",
      "source": [
        "##Author\n",
        "Dhruv Shah"
      ],
      "metadata": {
        "id": "bv6uAOXkJJDA"
      }
    },
    {
      "cell_type": "markdown",
      "source": [
        "#Data Science Tools and Ecosystem"
      ],
      "metadata": {
        "id": "GUhmWyGB4B4y"
      }
    },
    {
      "cell_type": "markdown",
      "source": [
        "###**Introduction**\n",
        "#####In this notebook, Data Science Tools and Ecosystem are summarized.\n",
        "\n",
        "\n",
        "\n"
      ],
      "metadata": {
        "id": "UdYXNSwi4yd6"
      }
    },
    {
      "cell_type": "markdown",
      "source": [
        "####Objectives:\n",
        "\n",
        "\n",
        "*  List popular languages for Data Science\n",
        "\n",
        "*  List common libraries used by Data Scientists\n",
        "\n",
        "*  List some Data Science Tools\n",
        "\n",
        "\n"
      ],
      "metadata": {
        "id": "kpE79WqUGt2b"
      }
    },
    {
      "cell_type": "markdown",
      "source": [
        "###**Data Science Languages**\n",
        "#####Some of the popular languages that Data Scientists use are:\n",
        "1.   Python\n",
        "2.   R Language\n",
        "3.   Java\n",
        "4.   Julia\n",
        "5.   SQL\n",
        "\n",
        "\n",
        "\n",
        "\n",
        "\n",
        "\n"
      ],
      "metadata": {
        "id": "mzJ14rQE86KM"
      }
    },
    {
      "cell_type": "markdown",
      "source": [
        "###**Data Science Libraries**\n",
        "#####Some of the commonly used libraries used by Data Scientists include:\n",
        "\n",
        "1.   Pandas\n",
        "2.   Matplotlib\n",
        "\n",
        "1.   Seaborn\n",
        "2.   Scikit Learn\n",
        "\n",
        "1.  Keras\n",
        "6.  Tensorflow\n",
        "7.  SciPy\n",
        "8. Pytorch\n",
        "\n",
        "\n",
        "\n",
        "\n",
        "\n",
        "\n",
        "\n",
        "\n",
        "\n"
      ],
      "metadata": {
        "id": "nEGHBsJHAIMW"
      }
    },
    {
      "cell_type": "markdown",
      "source": [
        "|Data Science Tools|\n",
        "|------------------|\n",
        "|Apache Spark|\n",
        "|Apache Hadoop|\n",
        "|RStudio|\n",
        "\n",
        "\n"
      ],
      "metadata": {
        "id": "b8vBoRjGCCrb"
      }
    },
    {
      "cell_type": "markdown",
      "source": [
        "###Arithmetic Expressions in Python\n",
        "###Below are a few examples of evaluating arithmetic expressions in Python:\n"
      ],
      "metadata": {
        "id": "7vLXecoyEVOt"
      }
    },
    {
      "cell_type": "code",
      "source": [
        "#This a simple arithmetic expression to mutiply then add integers\n",
        "(3*4)+5"
      ],
      "metadata": {
        "colab": {
          "base_uri": "https://localhost:8080/"
        },
        "id": "KwRVWUbRE6-E",
        "outputId": "023188bb-54f5-427e-94e4-654886224e93"
      },
      "execution_count": null,
      "outputs": [
        {
          "output_type": "execute_result",
          "data": {
            "text/plain": [
              "17"
            ]
          },
          "metadata": {},
          "execution_count": 2
        }
      ]
    },
    {
      "cell_type": "code",
      "source": [
        "#This will convert 200 minutes to hours by diving by 60\n",
        "200/60"
      ],
      "metadata": {
        "colab": {
          "base_uri": "https://localhost:8080/"
        },
        "id": "5VT8cSPOF8RR",
        "outputId": "ed24a017-3ac3-4a52-fa57-bf2bccbd2c8c"
      },
      "execution_count": null,
      "outputs": [
        {
          "output_type": "execute_result",
          "data": {
            "text/plain": [
              "3.3333333333333335"
            ]
          },
          "metadata": {},
          "execution_count": 3
        }
      ]
    }
  ]
}